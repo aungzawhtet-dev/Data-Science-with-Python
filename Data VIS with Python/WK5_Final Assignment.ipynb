{
 "cells": [
  {
   "cell_type": "code",
   "execution_count": 43,
   "metadata": {},
   "outputs": [],
   "source": [
    "\n",
    "import pandas as pd\n",
    "import dash\n",
    "import dash_html_components as html\n",
    "import dash_core_components as dcc\n",
    "from dash.dependencies import Input, Output, State\n",
    "from jupyter_dash import JupyterDash\n",
    "import plotly.graph_objects as go\n",
    "import plotly.express as px \n",
    "from dash import no_update"
   ]
  },
  {
   "cell_type": "code",
   "execution_count": 45,
   "metadata": {},
   "outputs": [],
   "source": [
    "\n",
    "#creating the dash application\n",
    "app = JupyterDash(__name__)\n",
    "JupyterDash.infer_jupyter_proxy_config()"
   ]
  },
  {
   "cell_type": "code",
   "execution_count": 46,
   "metadata": {},
   "outputs": [
    {
     "name": "stderr",
     "output_type": "stream",
     "text": [
      "127.0.0.1 - - [20/Mar/2021 20:12:15] \"\u001b[35m\u001b[1mPOST /_dash-update-component HTTP/1.1\u001b[0m\" 500 -\n"
     ]
    },
    {
     "name": "stdout",
     "output_type": "stream",
     "text": [
      "\u001b[1;31m---------------------------------------------------------------------------\u001b[0m\n",
      "\u001b[1;31mNameError\u001b[0m                                 Traceback (most recent call last)\n",
      "\u001b[1;32m<ipython-input-41-744367740800>\u001b[0m in \u001b[0;36mget_graph\u001b[1;34m(\n",
      "    chart='OPT1',\n",
      "    year=2011,\n",
      "    children1={'namespace': 'dash_core_components', 'props': {'figure': {'data': [{'hovertemplate': 'Reporting_Airline=AA<br>Month=%{x}<br>CarrierDelay=%{y}<extra></extra>', 'legendgroup': 'AA', 'line': {'color': '#636efa', 'dash': 'solid'}, 'mode': 'lines', 'name': 'AA', 'orientation': 'v', 'showlegend': True, 'type': 'scatter', 'x': [1, 2, 3, 4, 5, 6, 7, 8, 9, 10, 11, 12], 'xaxis': 'x', ...}, {'hovertemplate': 'Reporting_Airline=AS<br>Month=%{x}<br>CarrierDelay=%{y}<extra></extra>', 'legendgroup': 'AS', 'line': {'color': '#EF553B', 'dash': 'solid'}, 'mode': 'lines', 'name': 'AS', 'orientation': 'v', 'showlegend': True, 'type': 'scatter', 'x': [1, 2, 3, 4, 5, 6, 8, 9, 10, 11], 'xaxis': 'x', ...}, {'hovertemplate': 'Reporting_Airline=B6<br>Month=%{x}<br>CarrierDelay=%{y}<extra></extra>', 'legendgroup': 'B6', 'line': {'color': '#00cc96', 'dash': 'solid'}, 'mode': 'lines', 'name': 'B6', 'orientation': 'v', 'showlegend': True, 'type': 'scatter', 'x': [1, 2, 3, 4, 5, 6, 7, 8, 9, 10, 11, 12], 'xaxis': 'x', ...}, {'hovertemplate': 'Reporting_Airline=CO<br>Month=%{x}<br>CarrierDelay=%{y}<extra></extra>', 'legendgroup': 'CO', 'line': {'color': '#ab63fa', 'dash': 'solid'}, 'mode': 'lines', 'name': 'CO', 'orientation': 'v', 'showlegend': True, 'type': 'scatter', 'x': [1, 2, 3, 4, 5, 6, 7, 8, 9, 10, 11, 12], 'xaxis': 'x', ...}, {'hovertemplate': 'Reporting_Airline=DL<br>Month=%{x}<br>CarrierDelay=%{y}<extra></extra>', 'legendgroup': 'DL', 'line': {'color': '#FFA15A', 'dash': 'solid'}, 'mode': 'lines', 'name': 'DL', 'orientation': 'v', 'showlegend': True, 'type': 'scatter', 'x': [1, 2, 3, 4, 5, 6, 7, 8, 9, 10, 11, 12], 'xaxis': 'x', ...}, {'hovertemplate': 'Reporting_Airline=EV<br>Month=%{x}<br>CarrierDelay=%{y}<extra></extra>', 'legendgroup': 'EV', 'line': {'color': '#19d3f3', 'dash': 'solid'}, 'mode': 'lines', 'name': 'EV', 'orientation': 'v', 'showlegend': True, 'type': 'scatter', 'x': [1, 2, 3, 4, 5, 6, 7, 8, 9, 10, 11, 12], 'xaxis': 'x', ...}, {'hovertemplate': 'Reporting_Airline=FL<br>Month=%{x}<br>CarrierDelay=%{y}<extra></extra>', 'legendgroup': 'FL', 'line': {'color': '#FF6692', 'dash': 'solid'}, 'mode': 'lines', 'name': 'FL', 'orientation': 'v', 'showlegend': True, 'type': 'scatter', 'x': [1, 2, 3, 4, 5, 6, 7, 8, 9, 10, 12], 'xaxis': 'x', ...}, {'hovertemplate': 'Reporting_Airline=HA<br>Month=%{x}<br>CarrierDelay=%{y}<extra></extra>', 'legendgroup': 'HA', 'line': {'color': '#B6E880', 'dash': 'solid'}, 'mode': 'lines', 'name': 'HA', 'orientation': 'v', 'showlegend': True, 'type': 'scatter', 'x': [1, 3, 4, 6, 9, 10, 12], 'xaxis': 'x', ...}, {'hovertemplate': 'Reporting_Airline=MQ<br>Month=%{x}<br>CarrierDelay=%{y}<extra></extra>', 'legendgroup': 'MQ', 'line': {'color': '#FF97FF', 'dash': 'solid'}, 'mode': 'lines', 'name': 'MQ', 'orientation': 'v', 'showlegend': True, 'type': 'scatter', 'x': [1, 2, 3, 4, 5, 6, 7, 8, 9, 10, 11, 12], 'xaxis': 'x', ...}, {'hovertemplate': 'Reporting_Airline=OO<br>Month=%{x}<br>CarrierDelay=%{y}<extra></extra>', 'legendgroup': 'OO', 'line': {'color': '#FECB52', 'dash': 'solid'}, 'mode': 'lines', 'name': 'OO', 'orientation': 'v', 'showlegend': True, 'type': 'scatter', 'x': [1, 2, 3, 4, 5, 6, 7, 8, 9, 10, 11, 12], 'xaxis': 'x', ...}, {'hovertemplate': 'Reporting_Airline=UA<br>Month=%{x}<br>CarrierDelay=%{y}<extra></extra>', 'legendgroup': 'UA', 'line': {'color': '#636efa', 'dash': 'solid'}, 'mode': 'lines', 'name': 'UA', 'orientation': 'v', 'showlegend': True, 'type': 'scatter', 'x': [1, 2, 3, 5, 6, 7, 8, 9, 10, 11, 12], 'xaxis': 'x', ...}, {'hovertemplate': 'Reporting_Airline=US<br>Month=%{x}<br>CarrierDelay=%{y}<extra></extra>', 'legendgroup': 'US', 'line': {'color': '#EF553B', 'dash': 'solid'}, 'mode': 'lines', 'name': 'US', 'orientation': 'v', 'showlegend': True, 'type': 'scatter', 'x': [1, 2, 3, 4, 5, 6, 7, 8, 9, 10, 11, 12], 'xaxis': 'x', ...}, {'hovertemplate': 'Reporting_Airline=WN<br>Month=%{x}<br>CarrierDelay=%{y}<extra></extra>', 'legendgroup': 'WN', 'line': {'color': '#00cc96', 'dash': 'solid'}, 'mode': 'lines', 'name': 'WN', 'orientation': 'v', 'showlegend': True, 'type': 'scatter', 'x': [1, 2, 3, 4, 5, 6, 7, 8, 9, 10, 11, 12], 'xaxis': 'x', ...}, {'hovertemplate': 'Reporting_Airline=XE<br>Month=%{x}<br>CarrierDelay=%{y}<extra></extra>', 'legendgroup': 'XE', 'line': {'color': '#ab63fa', 'dash': 'solid'}, 'mode': 'lines', 'name': 'XE', 'orientation': 'v', 'showlegend': True, 'type': 'scatter', 'x': [1, 2, 3, 4, 5, 6, 7, 8, 9, 10, 11, 12], 'xaxis': 'x', ...}, {'hovertemplate': 'Reporting_Airline=YV<br>Month=%{x}<br>CarrierDelay=%{y}<extra></extra>', 'legendgroup': 'YV', 'line': {'color': '#FFA15A', 'dash': 'solid'}, 'mode': 'lines', 'name': 'YV', 'orientation': 'v', 'showlegend': True, 'type': 'scatter', 'x': [1, 2, 3, 5, 6, 7, 8, 9, 10, 11, 12], 'xaxis': 'x', ...}, {'hovertemplate': 'Reporting_Airline=F9<br>Month=%{x}<br>CarrierDelay=%{y}<extra></extra>', 'legendgroup': 'F9', 'line': {'color': '#19d3f3', 'dash': 'solid'}, 'mode': 'lines', 'name': 'F9', 'orientation': 'v', 'showlegend': True, 'type': 'scatter', 'x': [2, 4, 5, 6, 7, 10, 11], 'xaxis': 'x', ...}], 'layout': {'autosize': True, 'legend': {'title': {'text': 'Reporting_Airline'}, 'tracegroupgap': 0}, 'template': {'data': {'bar': [...], 'barpolar': [...], 'carpet': [...], 'choropleth': [...], 'contour': [...], 'contourcarpet': [...], 'heatmap': [...], 'heatmapgl': [...], 'histogram': [...], 'histogram2d': [...], ...}, 'layout': {'annotationdefaults': {...}, 'autotypenumbers': 'strict', 'coloraxis': {...}, 'colorscale': {...}, 'colorway': [...], 'font': {...}, 'geo': {...}, 'hoverlabel': {...}, 'hovermode': 'closest', 'mapbox': {...}, ...}}, 'title': {'text': 'Average carrrier delay time (minutes) by airline'}, 'xaxis': {'anchor': 'y', 'autorange': True, 'domain': [0, 1], 'range': [1, 12], 'title': {'text': 'Month'}, 'type': 'linear'}, 'yaxis': {'anchor': 'x', 'autorange': True, 'domain': [0, 1], 'range': [-9.055555555555557, 172.05555555555554], 'title': {'text': 'CarrierDelay'}, 'type': 'linear'}}}, 'hoverData': {'points': [{'curveNumber': 13, 'pointIndex': 7, 'pointNumber': 7, 'x': 8, 'y': 0}]}, 'relayoutData': {'autosize': True}}, 'type': 'Graph'},\n",
      "    children2={'namespace': 'dash_core_components', 'props': {'figure': {'data': [{'hovertemplate': 'Reporting_Airline=AA<br>Month=%{x}<br>WeatherDelay=%{y}<extra></extra>', 'legendgroup': 'AA', 'line': {'color': '#636efa', 'dash': 'solid'}, 'mode': 'lines', 'name': 'AA', 'orientation': 'v', 'showlegend': True, 'type': 'scatter', 'x': [1, 2, 3, 4, 5, 6, 7, 8, 9, 10, 11, 12], 'xaxis': 'x', ...}, {'hovertemplate': 'Reporting_Airline=AS<br>Month=%{x}<br>WeatherDelay=%{y}<extra></extra>', 'legendgroup': 'AS', 'line': {'color': '#EF553B', 'dash': 'solid'}, 'mode': 'lines', 'name': 'AS', 'orientation': 'v', 'showlegend': True, 'type': 'scatter', 'x': [1, 2, 3, 4, 5, 6, 8, 9, 10, 11], 'xaxis': 'x', ...}, {'hovertemplate': 'Reporting_Airline=B6<br>Month=%{x}<br>WeatherDelay=%{y}<extra></extra>', 'legendgroup': 'B6', 'line': {'color': '#00cc96', 'dash': 'solid'}, 'mode': 'lines', 'name': 'B6', 'orientation': 'v', 'showlegend': True, 'type': 'scatter', 'x': [1, 2, 3, 4, 5, 6, 7, 8, 9, 10, 11, 12], 'xaxis': 'x', ...}, {'hovertemplate': 'Reporting_Airline=CO<br>Month=%{x}<br>WeatherDelay=%{y}<extra></extra>', 'legendgroup': 'CO', 'line': {'color': '#ab63fa', 'dash': 'solid'}, 'mode': 'lines', 'name': 'CO', 'orientation': 'v', 'showlegend': True, 'type': 'scatter', 'x': [1, 2, 3, 4, 5, 6, 7, 8, 9, 10, 11, 12], 'xaxis': 'x', ...}, {'hovertemplate': 'Reporting_Airline=DL<br>Month=%{x}<br>WeatherDelay=%{y}<extra></extra>', 'legendgroup': 'DL', 'line': {'color': '#FFA15A', 'dash': 'solid'}, 'mode': 'lines', 'name': 'DL', 'orientation': 'v', 'showlegend': True, 'type': 'scatter', 'x': [1, 2, 3, 4, 5, 6, 7, 8, 9, 10, 11, 12], 'xaxis': 'x', ...}, {'hovertemplate': 'Reporting_Airline=EV<br>Month=%{x}<br>WeatherDelay=%{y}<extra></extra>', 'legendgroup': 'EV', 'line': {'color': '#19d3f3', 'dash': 'solid'}, 'mode': 'lines', 'name': 'EV', 'orientation': 'v', 'showlegend': True, 'type': 'scatter', 'x': [1, 2, 3, 4, 5, 6, 7, 8, 9, 10, 11, 12], 'xaxis': 'x', ...}, {'hovertemplate': 'Reporting_Airline=FL<br>Month=%{x}<br>WeatherDelay=%{y}<extra></extra>', 'legendgroup': 'FL', 'line': {'color': '#FF6692', 'dash': 'solid'}, 'mode': 'lines', 'name': 'FL', 'orientation': 'v', 'showlegend': True, 'type': 'scatter', 'x': [1, 2, 3, 4, 5, 6, 7, 8, 9, 10, 12], 'xaxis': 'x', ...}, {'hovertemplate': 'Reporting_Airline=HA<br>Month=%{x}<br>WeatherDelay=%{y}<extra></extra>', 'legendgroup': 'HA', 'line': {'color': '#B6E880', 'dash': 'solid'}, 'mode': 'lines', 'name': 'HA', 'orientation': 'v', 'showlegend': True, 'type': 'scatter', 'x': [1, 3, 4, 6, 9, 10, 12], 'xaxis': 'x', ...}, {'hovertemplate': 'Reporting_Airline=MQ<br>Month=%{x}<br>WeatherDelay=%{y}<extra></extra>', 'legendgroup': 'MQ', 'line': {'color': '#FF97FF', 'dash': 'solid'}, 'mode': 'lines', 'name': 'MQ', 'orientation': 'v', 'showlegend': True, 'type': 'scatter', 'x': [1, 2, 3, 4, 5, 6, 7, 8, 9, 10, 11, 12], 'xaxis': 'x', ...}, {'hovertemplate': 'Reporting_Airline=OO<br>Month=%{x}<br>WeatherDelay=%{y}<extra></extra>', 'legendgroup': 'OO', 'line': {'color': '#FECB52', 'dash': 'solid'}, 'mode': 'lines', 'name': 'OO', 'orientation': 'v', 'showlegend': True, 'type': 'scatter', 'x': [1, 2, 3, 4, 5, 6, 7, 8, 9, 10, 11, 12], 'xaxis': 'x', ...}, {'hovertemplate': 'Reporting_Airline=UA<br>Month=%{x}<br>WeatherDelay=%{y}<extra></extra>', 'legendgroup': 'UA', 'line': {'color': '#636efa', 'dash': 'solid'}, 'mode': 'lines', 'name': 'UA', 'orientation': 'v', 'showlegend': True, 'type': 'scatter', 'x': [1, 2, 3, 5, 6, 7, 8, 9, 10, 11, 12], 'xaxis': 'x', ...}, {'hovertemplate': 'Reporting_Airline=US<br>Month=%{x}<br>WeatherDelay=%{y}<extra></extra>', 'legendgroup': 'US', 'line': {'color': '#EF553B', 'dash': 'solid'}, 'mode': 'lines', 'name': 'US', 'orientation': 'v', 'showlegend': True, 'type': 'scatter', 'x': [1, 2, 3, 4, 5, 6, 7, 8, 9, 10, 11, 12], 'xaxis': 'x', ...}, {'hovertemplate': 'Reporting_Airline=WN<br>Month=%{x}<br>WeatherDelay=%{y}<extra></extra>', 'legendgroup': 'WN', 'line': {'color': '#00cc96', 'dash': 'solid'}, 'mode': 'lines', 'name': 'WN', 'orientation': 'v', 'showlegend': True, 'type': 'scatter', 'x': [1, 2, 3, 4, 5, 6, 7, 8, 9, 10, 11, 12], 'xaxis': 'x', ...}, {'hovertemplate': 'Reporting_Airline=XE<br>Month=%{x}<br>WeatherDelay=%{y}<extra></extra>', 'legendgroup': 'XE', 'line': {'color': '#ab63fa', 'dash': 'solid'}, 'mode': 'lines', 'name': 'XE', 'orientation': 'v', 'showlegend': True, 'type': 'scatter', 'x': [1, 2, 3, 4, 5, 6, 7, 8, 9, 10, 11, 12], 'xaxis': 'x', ...}, {'hovertemplate': 'Reporting_Airline=YV<br>Month=%{x}<br>WeatherDelay=%{y}<extra></extra>', 'legendgroup': 'YV', 'line': {'color': '#FFA15A', 'dash': 'solid'}, 'mode': 'lines', 'name': 'YV', 'orientation': 'v', 'showlegend': True, 'type': 'scatter', 'x': [1, 2, 3, 5, 6, 7, 8, 9, 10, 11, 12], 'xaxis': 'x', ...}, {'hovertemplate': 'Reporting_Airline=F9<br>Month=%{x}<br>WeatherDelay=%{y}<extra></extra>', 'legendgroup': 'F9', 'line': {'color': '#19d3f3', 'dash': 'solid'}, 'mode': 'lines', 'name': 'F9', 'orientation': 'v', 'showlegend': True, 'type': 'scatter', 'x': [2, 4, 5, 6, 7, 10, 11], 'xaxis': 'x', ...}], 'layout': {'autosize': True, 'legend': {'title': {'text': 'Reporting_Airline'}, 'tracegroupgap': 0}, 'template': {'data': {'bar': [...], 'barpolar': [...], 'carpet': [...], 'choropleth': [...], 'contour': [...], 'contourcarpet': [...], 'heatmap': [...], 'heatmapgl': [...], 'histogram': [...], 'histogram2d': [...], ...}, 'layout': {'annotationdefaults': {...}, 'autotypenumbers': 'strict', 'coloraxis': {...}, 'colorscale': {...}, 'colorway': [...], 'font': {...}, 'geo': {...}, 'hoverlabel': {...}, 'hovermode': 'closest', 'mapbox': {...}, ...}}, 'title': {'text': 'Average weather delay time (minutes) by airline'}, 'xaxis': {'anchor': 'y', 'autorange': True, 'domain': [0, 1], 'range': [1, 12], 'title': {'text': 'Month'}, 'type': 'linear'}, 'yaxis': {'anchor': 'x', 'autorange': True, 'domain': [0, 1], 'range': [-2.5, 47.5], 'title': {'text': 'WeatherDelay'}, 'type': 'linear'}}}, 'hoverData': {'points': [{'curveNumber': 14, 'pointIndex': 4, 'pointNumber': 4, 'x': 6, 'y': 0}]}, 'relayoutData': {'autosize': True}}, 'type': 'Graph'},\n",
      "    c3={'namespace': 'dash_core_components', 'props': {'figure': {'data': [{'hovertemplate': 'Reporting_Airline=AA<br>Month=%{x}<br>NASDelay=%{y}<extra></extra>', 'legendgroup': 'AA', 'line': {'color': '#636efa', 'dash': 'solid'}, 'mode': 'lines', 'name': 'AA', 'orientation': 'v', 'showlegend': True, 'type': 'scatter', 'x': [1, 2, 3, 4, 5, 6, 7, 8, 9, 10, 11, 12], 'xaxis': 'x', ...}, {'hovertemplate': 'Reporting_Airline=AS<br>Month=%{x}<br>NASDelay=%{y}<extra></extra>', 'legendgroup': 'AS', 'line': {'color': '#EF553B', 'dash': 'solid'}, 'mode': 'lines', 'name': 'AS', 'orientation': 'v', 'showlegend': True, 'type': 'scatter', 'x': [1, 2, 3, 4, 5, 6, 8, 9, 10, 11], 'xaxis': 'x', ...}, {'hovertemplate': 'Reporting_Airline=B6<br>Month=%{x}<br>NASDelay=%{y}<extra></extra>', 'legendgroup': 'B6', 'line': {'color': '#00cc96', 'dash': 'solid'}, 'mode': 'lines', 'name': 'B6', 'orientation': 'v', 'showlegend': True, 'type': 'scatter', 'x': [1, 2, 3, 4, 5, 6, 7, 8, 9, 10, 11, 12], 'xaxis': 'x', ...}, {'hovertemplate': 'Reporting_Airline=CO<br>Month=%{x}<br>NASDelay=%{y}<extra></extra>', 'legendgroup': 'CO', 'line': {'color': '#ab63fa', 'dash': 'solid'}, 'mode': 'lines', 'name': 'CO', 'orientation': 'v', 'showlegend': True, 'type': 'scatter', 'x': [1, 2, 3, 4, 5, 6, 7, 8, 9, 10, 11, 12], 'xaxis': 'x', ...}, {'hovertemplate': 'Reporting_Airline=DL<br>Month=%{x}<br>NASDelay=%{y}<extra></extra>', 'legendgroup': 'DL', 'line': {'color': '#FFA15A', 'dash': 'solid'}, 'mode': 'lines', 'name': 'DL', 'orientation': 'v', 'showlegend': True, 'type': 'scatter', 'x': [1, 2, 3, 4, 5, 6, 7, 8, 9, 10, 11, 12], 'xaxis': 'x', ...}, {'hovertemplate': 'Reporting_Airline=EV<br>Month=%{x}<br>NASDelay=%{y}<extra></extra>', 'legendgroup': 'EV', 'line': {'color': '#19d3f3', 'dash': 'solid'}, 'mode': 'lines', 'name': 'EV', 'orientation': 'v', 'showlegend': True, 'type': 'scatter', 'x': [1, 2, 3, 4, 5, 6, 7, 8, 9, 10, 11, 12], 'xaxis': 'x', ...}, {'hovertemplate': 'Reporting_Airline=FL<br>Month=%{x}<br>NASDelay=%{y}<extra></extra>', 'legendgroup': 'FL', 'line': {'color': '#FF6692', 'dash': 'solid'}, 'mode': 'lines', 'name': 'FL', 'orientation': 'v', 'showlegend': True, 'type': 'scatter', 'x': [1, 2, 3, 4, 5, 6, 7, 8, 9, 10, 12], 'xaxis': 'x', ...}, {'hovertemplate': 'Reporting_Airline=HA<br>Month=%{x}<br>NASDelay=%{y}<extra></extra>', 'legendgroup': 'HA', 'line': {'color': '#B6E880', 'dash': 'solid'}, 'mode': 'lines', 'name': 'HA', 'orientation': 'v', 'showlegend': True, 'type': 'scatter', 'x': [1, 3, 4, 6, 9, 10, 12], 'xaxis': 'x', ...}, {'hovertemplate': 'Reporting_Airline=MQ<br>Month=%{x}<br>NASDelay=%{y}<extra></extra>', 'legendgroup': 'MQ', 'line': {'color': '#FF97FF', 'dash': 'solid'}, 'mode': 'lines', 'name': 'MQ', 'orientation': 'v', 'showlegend': True, 'type': 'scatter', 'x': [1, 2, 3, 4, 5, 6, 7, 8, 9, 10, 11, 12], 'xaxis': 'x', ...}, {'hovertemplate': 'Reporting_Airline=OO<br>Month=%{x}<br>NASDelay=%{y}<extra></extra>', 'legendgroup': 'OO', 'line': {'color': '#FECB52', 'dash': 'solid'}, 'mode': 'lines', 'name': 'OO', 'orientation': 'v', 'showlegend': True, 'type': 'scatter', 'x': [1, 2, 3, 4, 5, 6, 7, 8, 9, 10, 11, 12], 'xaxis': 'x', ...}, {'hovertemplate': 'Reporting_Airline=UA<br>Month=%{x}<br>NASDelay=%{y}<extra></extra>', 'legendgroup': 'UA', 'line': {'color': '#636efa', 'dash': 'solid'}, 'mode': 'lines', 'name': 'UA', 'orientation': 'v', 'showlegend': True, 'type': 'scatter', 'x': [1, 2, 3, 5, 6, 7, 8, 9, 10, 11, 12], 'xaxis': 'x', ...}, {'hovertemplate': 'Reporting_Airline=US<br>Month=%{x}<br>NASDelay=%{y}<extra></extra>', 'legendgroup': 'US', 'line': {'color': '#EF553B', 'dash': 'solid'}, 'mode': 'lines', 'name': 'US', 'orientation': 'v', 'showlegend': True, 'type': 'scatter', 'x': [1, 2, 3, 4, 5, 6, 7, 8, 9, 10, 11, 12], 'xaxis': 'x', ...}, {'hovertemplate': 'Reporting_Airline=WN<br>Month=%{x}<br>NASDelay=%{y}<extra></extra>', 'legendgroup': 'WN', 'line': {'color': '#00cc96', 'dash': 'solid'}, 'mode': 'lines', 'name': 'WN', 'orientation': 'v', 'showlegend': True, 'type': 'scatter', 'x': [1, 2, 3, 4, 5, 6, 7, 8, 9, 10, 11, 12], 'xaxis': 'x', ...}, {'hovertemplate': 'Reporting_Airline=XE<br>Month=%{x}<br>NASDelay=%{y}<extra></extra>', 'legendgroup': 'XE', 'line': {'color': '#ab63fa', 'dash': 'solid'}, 'mode': 'lines', 'name': 'XE', 'orientation': 'v', 'showlegend': True, 'type': 'scatter', 'x': [1, 2, 3, 4, 5, 6, 7, 8, 9, 10, 11, 12], 'xaxis': 'x', ...}, {'hovertemplate': 'Reporting_Airline=YV<br>Month=%{x}<br>NASDelay=%{y}<extra></extra>', 'legendgroup': 'YV', 'line': {'color': '#FFA15A', 'dash': 'solid'}, 'mode': 'lines', 'name': 'YV', 'orientation': 'v', 'showlegend': True, 'type': 'scatter', 'x': [1, 2, 3, 5, 6, 7, 8, 9, 10, 11, 12], 'xaxis': 'x', ...}, {'hovertemplate': 'Reporting_Airline=F9<br>Month=%{x}<br>NASDelay=%{y}<extra></extra>', 'legendgroup': 'F9', 'line': {'color': '#19d3f3', 'dash': 'solid'}, 'mode': 'lines', 'name': 'F9', 'orientation': 'v', 'showlegend': True, 'type': 'scatter', 'x': [2, 4, 5, 6, 7, 10, 11], 'xaxis': 'x', ...}], 'layout': {'autosize': True, 'legend': {'title': {'text': 'Reporting_Airline'}, 'tracegroupgap': 0}, 'template': {'data': {'bar': [...], 'barpolar': [...], 'carpet': [...], 'choropleth': [...], 'contour': [...], 'contourcarpet': [...], 'heatmap': [...], 'heatmapgl': [...], 'histogram': [...], 'histogram2d': [...], ...}, 'layout': {'annotationdefaults': {...}, 'autotypenumbers': 'strict', 'coloraxis': {...}, 'colorscale': {...}, 'colorway': [...], 'font': {...}, 'geo': {...}, 'hoverlabel': {...}, 'hovermode': 'closest', 'mapbox': {...}, ...}}, 'title': {'text': 'Average NAS delay time (minutes) by airline'}, 'xaxis': {'anchor': 'y', 'autorange': True, 'domain': [0, 1], 'range': [1, 12], 'title': {'text': 'Month'}, 'type': 'linear'}, 'yaxis': {'anchor': 'x', 'autorange': True, 'domain': [0, 1], 'range': [-7.555555555555555, 143.55555555555554], 'title': {'text': 'NASDelay'}, 'type': 'linear'}}}, 'relayoutData': {'autosize': True}}, 'type': 'Graph'},\n",
      "    c4={'namespace': 'dash_core_components', 'props': {'figure': {'data': [{'hovertemplate': 'Reporting_Airline=AA<br>Month=%{x}<br>SecurityDelay=%{y}<extra></extra>', 'legendgroup': 'AA', 'line': {'color': '#636efa', 'dash': 'solid'}, 'mode': 'lines', 'name': 'AA', 'orientation': 'v', 'showlegend': True, 'type': 'scatter', 'x': [1, 2, 3, 4, 5, 6, 7, 8, 9, 10, 11, 12], 'xaxis': 'x', ...}, {'hovertemplate': 'Reporting_Airline=AS<br>Month=%{x}<br>SecurityDelay=%{y}<extra></extra>', 'legendgroup': 'AS', 'line': {'color': '#EF553B', 'dash': 'solid'}, 'mode': 'lines', 'name': 'AS', 'orientation': 'v', 'showlegend': True, 'type': 'scatter', 'x': [1, 2, 3, 4, 5, 6, 8, 9, 10, 11], 'xaxis': 'x', ...}, {'hovertemplate': 'Reporting_Airline=B6<br>Month=%{x}<br>SecurityDelay=%{y}<extra></extra>', 'legendgroup': 'B6', 'line': {'color': '#00cc96', 'dash': 'solid'}, 'mode': 'lines', 'name': 'B6', 'orientation': 'v', 'showlegend': True, 'type': 'scatter', 'x': [1, 2, 3, 4, 5, 6, 7, 8, 9, 10, 11, 12], 'xaxis': 'x', ...}, {'hovertemplate': 'Reporting_Airline=CO<br>Month=%{x}<br>SecurityDelay=%{y}<extra></extra>', 'legendgroup': 'CO', 'line': {'color': '#ab63fa', 'dash': 'solid'}, 'mode': 'lines', 'name': 'CO', 'orientation': 'v', 'showlegend': True, 'type': 'scatter', 'x': [1, 2, 3, 4, 5, 6, 7, 8, 9, 10, 11, 12], 'xaxis': 'x', ...}, {'hovertemplate': 'Reporting_Airline=DL<br>Month=%{x}<br>SecurityDelay=%{y}<extra></extra>', 'legendgroup': 'DL', 'line': {'color': '#FFA15A', 'dash': 'solid'}, 'mode': 'lines', 'name': 'DL', 'orientation': 'v', 'showlegend': True, 'type': 'scatter', 'x': [1, 2, 3, 4, 5, 6, 7, 8, 9, 10, 11, 12], 'xaxis': 'x', ...}, {'hovertemplate': 'Reporting_Airline=EV<br>Month=%{x}<br>SecurityDelay=%{y}<extra></extra>', 'legendgroup': 'EV', 'line': {'color': '#19d3f3', 'dash': 'solid'}, 'mode': 'lines', 'name': 'EV', 'orientation': 'v', 'showlegend': True, 'type': 'scatter', 'x': [1, 2, 3, 4, 5, 6, 7, 8, 9, 10, 11, 12], 'xaxis': 'x', ...}, {'hovertemplate': 'Reporting_Airline=FL<br>Month=%{x}<br>SecurityDelay=%{y}<extra></extra>', 'legendgroup': 'FL', 'line': {'color': '#FF6692', 'dash': 'solid'}, 'mode': 'lines', 'name': 'FL', 'orientation': 'v', 'showlegend': True, 'type': 'scatter', 'x': [1, 2, 3, 4, 5, 6, 7, 8, 9, 10, 12], 'xaxis': 'x', ...}, {'hovertemplate': 'Reporting_Airline=HA<br>Month=%{x}<br>SecurityDelay=%{y}<extra></extra>', 'legendgroup': 'HA', 'line': {'color': '#B6E880', 'dash': 'solid'}, 'mode': 'lines', 'name': 'HA', 'orientation': 'v', 'showlegend': True, 'type': 'scatter', 'x': [1, 3, 4, 6, 9, 10, 12], 'xaxis': 'x', ...}, {'hovertemplate': 'Reporting_Airline=MQ<br>Month=%{x}<br>SecurityDelay=%{y}<extra></extra>', 'legendgroup': 'MQ', 'line': {'color': '#FF97FF', 'dash': 'solid'}, 'mode': 'lines', 'name': 'MQ', 'orientation': 'v', 'showlegend': True, 'type': 'scatter', 'x': [1, 2, 3, 4, 5, 6, 7, 8, 9, 10, 11, 12], 'xaxis': 'x', ...}, {'hovertemplate': 'Reporting_Airline=OO<br>Month=%{x}<br>SecurityDelay=%{y}<extra></extra>', 'legendgroup': 'OO', 'line': {'color': '#FECB52', 'dash': 'solid'}, 'mode': 'lines', 'name': 'OO', 'orientation': 'v', 'showlegend': True, 'type': 'scatter', 'x': [1, 2, 3, 4, 5, 6, 7, 8, 9, 10, 11, 12], 'xaxis': 'x', ...}, {'hovertemplate': 'Reporting_Airline=UA<br>Month=%{x}<br>SecurityDelay=%{y}<extra></extra>', 'legendgroup': 'UA', 'line': {'color': '#636efa', 'dash': 'solid'}, 'mode': 'lines', 'name': 'UA', 'orientation': 'v', 'showlegend': True, 'type': 'scatter', 'x': [1, 2, 3, 5, 6, 7, 8, 9, 10, 11, 12], 'xaxis': 'x', ...}, {'hovertemplate': 'Reporting_Airline=US<br>Month=%{x}<br>SecurityDelay=%{y}<extra></extra>', 'legendgroup': 'US', 'line': {'color': '#EF553B', 'dash': 'solid'}, 'mode': 'lines', 'name': 'US', 'orientation': 'v', 'showlegend': True, 'type': 'scatter', 'x': [1, 2, 3, 4, 5, 6, 7, 8, 9, 10, 11, 12], 'xaxis': 'x', ...}, {'hovertemplate': 'Reporting_Airline=WN<br>Month=%{x}<br>SecurityDelay=%{y}<extra></extra>', 'legendgroup': 'WN', 'line': {'color': '#00cc96', 'dash': 'solid'}, 'mode': 'lines', 'name': 'WN', 'orientation': 'v', 'showlegend': True, 'type': 'scatter', 'x': [1, 2, 3, 4, 5, 6, 7, 8, 9, 10, 11, 12], 'xaxis': 'x', ...}, {'hovertemplate': 'Reporting_Airline=XE<br>Month=%{x}<br>SecurityDelay=%{y}<extra></extra>', 'legendgroup': 'XE', 'line': {'color': '#ab63fa', 'dash': 'solid'}, 'mode': 'lines', 'name': 'XE', 'orientation': 'v', 'showlegend': True, 'type': 'scatter', 'x': [1, 2, 3, 4, 5, 6, 7, 8, 9, 10, 11, 12], 'xaxis': 'x', ...}, {'hovertemplate': 'Reporting_Airline=YV<br>Month=%{x}<br>SecurityDelay=%{y}<extra></extra>', 'legendgroup': 'YV', 'line': {'color': '#FFA15A', 'dash': 'solid'}, 'mode': 'lines', 'name': 'YV', 'orientation': 'v', 'showlegend': True, 'type': 'scatter', 'x': [1, 2, 3, 5, 6, 7, 8, 9, 10, 11, 12], 'xaxis': 'x', ...}, {'hovertemplate': 'Reporting_Airline=F9<br>Month=%{x}<br>SecurityDelay=%{y}<extra></extra>', 'legendgroup': 'F9', 'line': {'color': '#19d3f3', 'dash': 'solid'}, 'mode': 'lines', 'name': 'F9', 'orientation': 'v', 'showlegend': True, 'type': 'scatter', 'x': [2, 4, 5, 6, 7, 10, 11], 'xaxis': 'x', ...}], 'layout': {'autosize': True, 'legend': {'title': {'text': 'Reporting_Airline'}, 'tracegroupgap': 0}, 'template': {'data': {'bar': [...], 'barpolar': [...], 'carpet': [...], 'choropleth': [...], 'contour': [...], 'contourcarpet': [...], 'heatmap': [...], 'heatmapgl': [...], 'histogram': [...], 'histogram2d': [...], ...}, 'layout': {'annotationdefaults': {...}, 'autotypenumbers': 'strict', 'coloraxis': {...}, 'colorscale': {...}, 'colorway': [...], 'font': {...}, 'geo': {...}, 'hoverlabel': {...}, 'hovermode': 'closest', 'mapbox': {...}, ...}}, 'title': {'text': 'Average security delay time (minutes) by airline'}, 'xaxis': {'anchor': 'y', 'autorange': True, 'domain': [0, 1], 'range': [1, 12], 'title': {'text': 'Month'}, 'type': 'linear'}, 'yaxis': {'anchor': 'x', 'autorange': True, 'domain': [0, 1], 'range': [-1, 1], 'title': {'text': 'SecurityDelay'}, 'type': 'linear'}}}, 'relayoutData': {'autosize': True}}, 'type': 'Graph'},\n",
      "    c5={'namespace': 'dash_core_components', 'props': {'figure': {'data': [{'hovertemplate': 'Reporting_Airline=AA<br>Month=%{x}<br>LateAircraftDelay=%{y}<extra></extra>', 'legendgroup': 'AA', 'line': {'color': '#636efa', 'dash': 'solid'}, 'mode': 'lines', 'name': 'AA', 'orientation': 'v', 'showlegend': True, 'type': 'scatter', 'x': [1, 2, 3, 4, 5, 6, 7, 8, 9, 10, 11, 12], 'xaxis': 'x', ...}, {'hovertemplate': 'Reporting_Airline=AS<br>Month=%{x}<br>LateAircraftDelay=%{y}<extra></extra>', 'legendgroup': 'AS', 'line': {'color': '#EF553B', 'dash': 'solid'}, 'mode': 'lines', 'name': 'AS', 'orientation': 'v', 'showlegend': True, 'type': 'scatter', 'x': [1, 2, 3, 4, 5, 6, 8, 9, 10, 11], 'xaxis': 'x', ...}, {'hovertemplate': 'Reporting_Airline=B6<br>Month=%{x}<br>LateAircraftDelay=%{y}<extra></extra>', 'legendgroup': 'B6', 'line': {'color': '#00cc96', 'dash': 'solid'}, 'mode': 'lines', 'name': 'B6', 'orientation': 'v', 'showlegend': True, 'type': 'scatter', 'x': [1, 2, 3, 4, 5, 6, 7, 8, 9, 10, 11, 12], 'xaxis': 'x', ...}, {'hovertemplate': 'Reporting_Airline=CO<br>Month=%{x}<br>LateAircraftDelay=%{y}<extra></extra>', 'legendgroup': 'CO', 'line': {'color': '#ab63fa', 'dash': 'solid'}, 'mode': 'lines', 'name': 'CO', 'orientation': 'v', 'showlegend': True, 'type': 'scatter', 'x': [1, 2, 3, 4, 5, 6, 7, 8, 9, 10, 11, 12], 'xaxis': 'x', ...}, {'hovertemplate': 'Reporting_Airline=DL<br>Month=%{x}<br>LateAircraftDelay=%{y}<extra></extra>', 'legendgroup': 'DL', 'line': {'color': '#FFA15A', 'dash': 'solid'}, 'mode': 'lines', 'name': 'DL', 'orientation': 'v', 'showlegend': True, 'type': 'scatter', 'x': [1, 2, 3, 4, 5, 6, 7, 8, 9, 10, 11, 12], 'xaxis': 'x', ...}, {'hovertemplate': 'Reporting_Airline=EV<br>Month=%{x}<br>LateAircraftDelay=%{y}<extra></extra>', 'legendgroup': 'EV', 'line': {'color': '#19d3f3', 'dash': 'solid'}, 'mode': 'lines', 'name': 'EV', 'orientation': 'v', 'showlegend': True, 'type': 'scatter', 'x': [1, 2, 3, 4, 5, 6, 7, 8, 9, 10, 11, 12], 'xaxis': 'x', ...}, {'hovertemplate': 'Reporting_Airline=FL<br>Month=%{x}<br>LateAircraftDelay=%{y}<extra></extra>', 'legendgroup': 'FL', 'line': {'color': '#FF6692', 'dash': 'solid'}, 'mode': 'lines', 'name': 'FL', 'orientation': 'v', 'showlegend': True, 'type': 'scatter', 'x': [1, 2, 3, 4, 5, 6, 7, 8, 9, 10, 12], 'xaxis': 'x', ...}, {'hovertemplate': 'Reporting_Airline=HA<br>Month=%{x}<br>LateAircraftDelay=%{y}<extra></extra>', 'legendgroup': 'HA', 'line': {'color': '#B6E880', 'dash': 'solid'}, 'mode': 'lines', 'name': 'HA', 'orientation': 'v', 'showlegend': True, 'type': 'scatter', 'x': [1, 3, 4, 6, 9, 10, 12], 'xaxis': 'x', ...}, {'hovertemplate': 'Reporting_Airline=MQ<br>Month=%{x}<br>LateAircraftDelay=%{y}<extra></extra>', 'legendgroup': 'MQ', 'line': {'color': '#FF97FF', 'dash': 'solid'}, 'mode': 'lines', 'name': 'MQ', 'orientation': 'v', 'showlegend': True, 'type': 'scatter', 'x': [1, 2, 3, 4, 5, 6, 7, 8, 9, 10, 11, 12], 'xaxis': 'x', ...}, {'hovertemplate': 'Reporting_Airline=OO<br>Month=%{x}<br>LateAircraftDelay=%{y}<extra></extra>', 'legendgroup': 'OO', 'line': {'color': '#FECB52', 'dash': 'solid'}, 'mode': 'lines', 'name': 'OO', 'orientation': 'v', 'showlegend': True, 'type': 'scatter', 'x': [1, 2, 3, 4, 5, 6, 7, 8, 9, 10, 11, 12], 'xaxis': 'x', ...}, {'hovertemplate': 'Reporting_Airline=UA<br>Month=%{x}<br>LateAircraftDelay=%{y}<extra></extra>', 'legendgroup': 'UA', 'line': {'color': '#636efa', 'dash': 'solid'}, 'mode': 'lines', 'name': 'UA', 'orientation': 'v', 'showlegend': True, 'type': 'scatter', 'x': [1, 2, 3, 5, 6, 7, 8, 9, 10, 11, 12], 'xaxis': 'x', ...}, {'hovertemplate': 'Reporting_Airline=US<br>Month=%{x}<br>LateAircraftDelay=%{y}<extra></extra>', 'legendgroup': 'US', 'line': {'color': '#EF553B', 'dash': 'solid'}, 'mode': 'lines', 'name': 'US', 'orientation': 'v', 'showlegend': True, 'type': 'scatter', 'x': [1, 2, 3, 4, 5, 6, 7, 8, 9, 10, 11, 12], 'xaxis': 'x', ...}, {'hovertemplate': 'Reporting_Airline=WN<br>Month=%{x}<br>LateAircraftDelay=%{y}<extra></extra>', 'legendgroup': 'WN', 'line': {'color': '#00cc96', 'dash': 'solid'}, 'mode': 'lines', 'name': 'WN', 'orientation': 'v', 'showlegend': True, 'type': 'scatter', 'x': [1, 2, 3, 4, 5, 6, 7, 8, 9, 10, 11, 12], 'xaxis': 'x', ...}, {'hovertemplate': 'Reporting_Airline=XE<br>Month=%{x}<br>LateAircraftDelay=%{y}<extra></extra>', 'legendgroup': 'XE', 'line': {'color': '#ab63fa', 'dash': 'solid'}, 'mode': 'lines', 'name': 'XE', 'orientation': 'v', 'showlegend': True, 'type': 'scatter', 'x': [1, 2, 3, 4, 5, 6, 7, 8, 9, 10, 11, 12], 'xaxis': 'x', ...}, {'hovertemplate': 'Reporting_Airline=YV<br>Month=%{x}<br>LateAircraftDelay=%{y}<extra></extra>', 'legendgroup': 'YV', 'line': {'color': '#FFA15A', 'dash': 'solid'}, 'mode': 'lines', 'name': 'YV', 'orientation': 'v', 'showlegend': True, 'type': 'scatter', 'x': [1, 2, 3, 5, 6, 7, 8, 9, 10, 11, 12], 'xaxis': 'x', ...}, {'hovertemplate': 'Reporting_Airline=F9<br>Month=%{x}<br>LateAircraftDelay=%{y}<extra></extra>', 'legendgroup': 'F9', 'line': {'color': '#19d3f3', 'dash': 'solid'}, 'mode': 'lines', 'name': 'F9', 'orientation': 'v', 'showlegend': True, 'type': 'scatter', 'x': [2, 4, 5, 6, 7, 10, 11], 'xaxis': 'x', ...}], 'layout': {'autosize': True, 'legend': {'title': {'text': 'Reporting_Airline'}, 'tracegroupgap': 0}, 'template': {'data': {'bar': [...], 'barpolar': [...], 'carpet': [...], 'choropleth': [...], 'contour': [...], 'contourcarpet': [...], 'heatmap': [...], 'heatmapgl': [...], 'histogram': [...], 'histogram2d': [...], ...}, 'layout': {'annotationdefaults': {...}, 'autotypenumbers': 'strict', 'coloraxis': {...}, 'colorscale': {...}, 'colorway': [...], 'font': {...}, 'geo': {...}, 'hoverlabel': {...}, 'hovermode': 'closest', 'mapbox': {...}, ...}}, 'title': {'text': 'Average late aircraft delay time (minutes) by airline'}, 'xaxis': {'anchor': 'y', 'autorange': True, 'domain': [0, 1], 'range': [1, 12], 'title': {'text': 'Month'}, 'type': 'linear'}, 'yaxis': {'anchor': 'x', 'autorange': True, 'domain': [0, 1], 'range': [-10.055555555555557, 191.05555555555554], 'title': {'text': 'LateAircraftDelay'}, 'type': 'linear'}}}, 'relayoutData': {'autosize': True}}, 'type': 'Graph'}\n",
      ")\u001b[0m\n",
      "\u001b[0;32m     87\u001b[0m                     \u001b[0mdcc\u001b[0m\u001b[1;33m.\u001b[0m\u001b[0mGraph\u001b[0m\u001b[1;33m(\u001b[0m\u001b[0mfigure\u001b[0m\u001b[1;33m=\u001b[0m\u001b[0mmap_fig\u001b[0m\u001b[1;33m)\u001b[0m\u001b[1;33m,\u001b[0m\u001b[1;33m\u001b[0m\u001b[1;33m\u001b[0m\u001b[0m\n",
      "\u001b[0;32m     88\u001b[0m                     \u001b[0mdcc\u001b[0m\u001b[1;33m.\u001b[0m\u001b[0mGraph\u001b[0m\u001b[1;33m(\u001b[0m\u001b[0mfigure\u001b[0m\u001b[1;33m=\u001b[0m\u001b[0mbar_fig\u001b[0m\u001b[1;33m)\u001b[0m\u001b[1;33m,\u001b[0m\u001b[1;33m\u001b[0m\u001b[1;33m\u001b[0m\u001b[0m\n",
      "\u001b[1;32m---> 89\u001b[1;33m                     \u001b[0mdcc\u001b[0m\u001b[1;33m.\u001b[0m\u001b[0mGraph\u001b[0m\u001b[1;33m(\u001b[0m\u001b[0mfigure\u001b[0m\u001b[1;33m=\u001b[0m\u001b[0mline_fig\u001b[0m\u001b[1;33m)\u001b[0m\u001b[1;33m\u001b[0m\u001b[1;33m\u001b[0m\u001b[0m\n",
      "\u001b[0m        \u001b[1;36mglobal\u001b[0m \u001b[0;36mdcc.Graph\u001b[0m \u001b[1;34m= <class 'dash_core_components.Graph.Graph'>\u001b[0m\u001b[1;34m\n",
      "        \u001b[0m\u001b[1;36mglobal\u001b[0m \u001b[0;36mfigure\u001b[0m \u001b[1;34m= \u001b[1;36mundefined\u001b[0m\u001b[0m\u001b[1;34m\n",
      "        \u001b[0m\u001b[1;36mglobal\u001b[0m \u001b[0;36mline_fig\u001b[0m \u001b[1;34m= \u001b[1;36mundefined\u001b[0m\u001b[0m\n",
      "\u001b[0;32m     90\u001b[0m                    ]\n",
      "\u001b[0;32m     91\u001b[0m         \u001b[1;32melse\u001b[0m\u001b[1;33m:\u001b[0m\u001b[1;33m\u001b[0m\u001b[1;33m\u001b[0m\u001b[0m\n",
      "\n",
      "\u001b[1;31mNameError\u001b[0m: name 'line_fig' is not defined\n",
      "\n"
     ]
    }
   ],
   "source": [
    "\n",
    "#clearing layout\n",
    "app.config.suppress_callback_exceptions = True\n",
    "\n",
    "#read the airline data \n",
    "airline_data = pd.read_csv('https://cf-courses-data.s3.us.cloud-object-storage.appdomain.cloud/IBMDeveloperSkillsNetwork-DV0101EN-SkillsNetwork/Data%20Files/airline_data.csv', \\\n",
    "                           encoding=\"ISO-8859-1\",\n",
    "                           dtype={'Div1Airport':str, 'Div1TailNum':str, 'Div2Airport':str, 'Div2TailNum':str})\n",
    "\n",
    "airline_data.head()\n",
    "\n",
    "#list of years \n",
    "year_list = [i for i in range(2005,2021,1)]"
   ]
  },
  {
   "cell_type": "code",
   "execution_count": 47,
   "metadata": {},
   "outputs": [],
   "source": [
    "\n",
    "#Compute graph data for creating yearly airline performance report \n",
    "def compute_data_choice_1(df):\n",
    "    # Cancellation Category Count\n",
    "    bar_data = df.groupby(['Month','CancellationCode'])['Flights'].sum().reset_index()\n",
    "    # Average flight time by reporting airline\n",
    "    line_data = df.groupby(['Month','Reporting_Airline'])['AirTime'].mean().reset_index()\n",
    "    # Diverted Airport Landings\n",
    "    div_data = df[df['DivAirportLandings'] != 0.0]\n",
    "    # Source state count\n",
    "    map_data = df.groupby(['OriginState'])['Flights'].sum().reset_index()\n",
    "    # Destination state count\n",
    "    tree_data = df.groupby(['DestState', 'Reporting_Airline'])['Flights'].sum().reset_index()\n",
    "    return bar_data, line_data, div_data, map_data, tree_data"
   ]
  },
  {
   "cell_type": "code",
   "execution_count": 48,
   "metadata": {},
   "outputs": [],
   "source": [
    "\n",
    "def compute_data_choice_2(df):\n",
    "    # Compute delay averages\n",
    "    avg_car = df.groupby(['Month','Reporting_Airline'])['CarrierDelay'].mean().reset_index()\n",
    "    avg_weather = df.groupby(['Month','Reporting_Airline'])['WeatherDelay'].mean().reset_index()\n",
    "    avg_NAS = df.groupby(['Month','Reporting_Airline'])['NASDelay'].mean().reset_index()\n",
    "    avg_sec = df.groupby(['Month','Reporting_Airline'])['SecurityDelay'].mean().reset_index()\n",
    "    avg_late = df.groupby(['Month','Reporting_Airline'])['LateAircraftDelay'].mean().reset_index()\n",
    "    return avg_car, avg_weather, avg_NAS, avg_sec, avg_late"
   ]
  },
  {
   "cell_type": "code",
   "execution_count": 49,
   "metadata": {},
   "outputs": [],
   "source": [
    "app.layout = html.Div(children=[html.H1('US Domestic Airline Flights Performance', \n",
    "                                    style={'textAlign':'center','color':'#503D36','font-size':24, 'font-family': 'Arial'}),\n",
    "                                html.Br(),\n",
    "                                html.Div([\n",
    "                                    html.Div([\n",
    "                                        html.Div([\n",
    "                                            html.H2('Report Type',\n",
    "                                               style={'margin-right':'2em', 'font-family':'Century Gothic'}),\n",
    "                                        dcc.Dropdown(\n",
    "                                               id='input-type',\n",
    "                                               options=[\n",
    "                                                   {'label':'Yearly Airline Performance Report', 'value': 'OPT1'},\n",
    "                                                   {'label':'Yearly Airline Delay Report','value':'OPT2'}],\n",
    "                                               placeholder='Select A Report Type',\n",
    "                                               style={\"width\": '80%', 'padding': '3px', 'font-size': '20px', 'textAlign': 'center'}),\n",
    "                                        ],  style={'display':'flex'}),\n",
    "                                        html.Div([\n",
    "                                                html.H2('Choose Year',\n",
    "                                               style={'margin-right':'2em', 'font-family':'Century Gothic'}),\n",
    "                                            dcc.Dropdown(\n",
    "                                               id='input-year',\n",
    "                                                  options=[{'label': i, 'value': i} for i in year_list],\n",
    "                                                     placeholder=\"Select a year\",\n",
    "                                                     style={'width':'80%', 'padding':'3px', 'font-size': '20px', 'text-align-last' : 'center'}),\n",
    "                                           ],  style={'display':'flex'}),\n",
    "                                    \n",
    "                                ]),\n",
    "                                \n",
    "                                  html.Div([ ], id='plot1'),    \n",
    "                                  html.Div([\n",
    "                                        html.Div([ ], id='plot2'),\n",
    "                                        html.Div([ ], id='plot3')\n",
    "                                  ], style={'display': 'flex'}),\n",
    "                                  html.Div([\n",
    "                                        html.Div([ ], id='plot4'),\n",
    "                                        html.Div([ ], id='plot5')\n",
    "                                    ], style={'display':'flex'})\n",
    "                                ])\n",
    "                               ])\n",
    "                                    \n",
    "                                                           \n",
    "\n",
    "@app.callback([ Output(component_id='plot1', component_property='children'),\n",
    "                Output(component_id='plot2', component_property='children'),\n",
    "                Output(component_id='plot3', component_property='children'),\n",
    "                Output(component_id='plot4', component_property='children'),\n",
    "                Output(component_id='plot5', component_property='children')],\n",
    "                \n",
    "                [Input(component_id='input-type', component_property='value'),\n",
    "                Input(component_id='input-year', component_property='value')],\n",
    "                \n",
    "               [State(\"plot1\", \"children\"), State(\"plot2\", \"children\"),\n",
    "                State(\"plot3\", \"children\"), State(\"plot4\", \"children\"),\n",
    "                State(\"plot5\", \"children\")\n",
    "               ])\n",
    "                                \n",
    "def get_graph(chart, year, children1, children2, c3, c4, c5):\n",
    "        # Select data\n",
    "        df =  airline_data[airline_data['Year']==int(year)]\n",
    "       \n",
    "        if chart == 'OPT1':\n",
    "            # Compute required information for creating graph from the data\n",
    "            bar_data, line_data, div_data, map_data, tree_data = compute_data_choice_1(df)\n",
    "            \n",
    "            # Number of flights under different cancellation categories\n",
    "            bar_fig = px.bar(bar_data, x='Month', y='Flights', color='CancellationCode', title='Monthly Flight Cancellation')\n",
    "            line_fig = px.line(line_data,x='Month',y='AirTime',color = 'Reporting_Airline',title='Average monthly flight time (minutes) by airline')\n",
    "            pie_fig = px.pie(div_data, values='Flights', names='Reporting_Airline', title='% of flights by reporting airline')                      \n",
    "            map_fig = px.choropleth(map_data,  # Input data\n",
    "                    locations='OriginState', \n",
    "                    color='Flights',  \n",
    "                    hover_data=['OriginState', 'Flights'], \n",
    "                    locationmode = 'USA-states', # Set to plot as US States\n",
    "                    color_continuous_scale='GnBu',\n",
    "                    range_color=[0, map_data['Flights'].max()]) \n",
    "            map_fig.update_layout(\n",
    "                    title_text = 'Number of flights from origin state', \n",
    "                    geo_scope='usa') # Plot only the USA instead of globe\n",
    "            tree_fig = px.treemap(tree_data,path=['DestState', 'Reporting_Airline'],\n",
    "                                 values ='Flights',\n",
    "                                 color = 'Flights',\n",
    "                                 color_continuous_scale='RdBu',\n",
    "                                 title= 'Flight count by airline to destination state')\n",
    "                                    \n",
    "            return [dcc.Graph(figure=tree_fig), \n",
    "                    dcc.Graph(figure=pie_fig),\n",
    "                    dcc.Graph(figure=map_fig),\n",
    "                    dcc.Graph(figure=bar_fig),\n",
    "                    dcc.Graph(figure=line_fig)\n",
    "                   ]\n",
    "        else:\n",
    "        # Compute required information for creating graph from the data\n",
    "            avg_car, avg_weather, avg_NAS, avg_sec, avg_late = compute_data_choice_2(df)\n",
    "            \n",
    "            # Create graph\n",
    "            carrier_fig = px.line(avg_car, x='Month', y='CarrierDelay', color='Reporting_Airline', title='Average carrrier delay time (minutes) by airline')\n",
    "            weather_fig = px.line(avg_weather, x='Month', y='WeatherDelay', color='Reporting_Airline', title='Average weather delay time (minutes) by airline')\n",
    "            nas_fig = px.line(avg_NAS, x='Month', y='NASDelay', color='Reporting_Airline', title='Average NAS delay time (minutes) by airline')\n",
    "            sec_fig = px.line(avg_sec, x='Month', y='SecurityDelay', color='Reporting_Airline', title='Average security delay time (minutes) by airline')\n",
    "            late_fig = px.line(avg_late, x='Month', y='LateAircraftDelay', color='Reporting_Airline', title='Average late aircraft delay time (minutes) by airline')\n",
    "            \n",
    "            return[dcc.Graph(figure=carrier_fig), \n",
    "                   dcc.Graph(figure=weather_fig), \n",
    "                   dcc.Graph(figure=nas_fig), \n",
    "                   dcc.Graph(figure=sec_fig), \n",
    "                   dcc.Graph(figure=late_fig)]\n"
   ]
  },
  {
   "cell_type": "code",
   "execution_count": 50,
   "metadata": {},
   "outputs": [
    {
     "name": "stderr",
     "output_type": "stream",
     "text": [
      "127.0.0.1 - - [20/Mar/2021 20:12:18] \"\u001b[37mGET /_shutdown_a6a423d0-5cc5-4513-8002-21a6582bf445 HTTP/1.1\u001b[0m\" 200 -\n",
      " * Running on http://localhost:8040/ (Press CTRL+C to quit)\n",
      "127.0.0.1 - - [20/Mar/2021 20:12:19] \"\u001b[37mGET /_alive_a6a423d0-5cc5-4513-8002-21a6582bf445 HTTP/1.1\u001b[0m\" 200 -\n"
     ]
    },
    {
     "data": {
      "text/html": [
       "\n",
       "        <iframe\n",
       "            width=\"100%\"\n",
       "            height=\"650\"\n",
       "            src=\"http://localhost:8040/\"\n",
       "            frameborder=\"0\"\n",
       "            allowfullscreen\n",
       "        ></iframe>\n",
       "        "
      ],
      "text/plain": [
       "<IPython.lib.display.IFrame at 0x2890f7a41f0>"
      ]
     },
     "metadata": {},
     "output_type": "display_data"
    }
   ],
   "source": [
    "# Run the app\n",
    "if __name__ == '__main__':\n",
    "    # REVIEW8: Adding dev_tools_ui=False, dev_tools_props_check=False can prevent error appearing before calling callback function\n",
    "    app.run_server(mode=\"inline\", host=\"localhost\", port='8040', debug=False, dev_tools_ui=False, dev_tools_props_check=False)"
   ]
  },
  {
   "cell_type": "code",
   "execution_count": null,
   "metadata": {},
   "outputs": [],
   "source": []
  },
  {
   "cell_type": "code",
   "execution_count": null,
   "metadata": {},
   "outputs": [],
   "source": []
  }
 ],
 "metadata": {
  "kernelspec": {
   "display_name": "Python 3",
   "language": "python",
   "name": "python3"
  },
  "language_info": {
   "codemirror_mode": {
    "name": "ipython",
    "version": 3
   },
   "file_extension": ".py",
   "mimetype": "text/x-python",
   "name": "python",
   "nbconvert_exporter": "python",
   "pygments_lexer": "ipython3",
   "version": "3.8.5"
  }
 },
 "nbformat": 4,
 "nbformat_minor": 4
}
